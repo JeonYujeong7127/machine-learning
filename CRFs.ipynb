{
  "cells": [
    {
      "cell_type": "code",
      "source": [
        "!pip install scikit-learn==0.23.1\n",
        "!pip install sklearn_crfsuite"
      ],
      "metadata": {
        "id": "CLcCRJ0Q2BCS",
        "colab": {
          "base_uri": "https://localhost:8080/"
        },
        "outputId": "e27e33e5-1d9a-428a-bff9-cd4822e8fbf3"
      },
      "id": "CLcCRJ0Q2BCS",
      "execution_count": null,
      "outputs": [
        {
          "output_type": "stream",
          "name": "stdout",
          "text": [
            "Looking in indexes: https://pypi.org/simple, https://us-python.pkg.dev/colab-wheels/public/simple/\n",
            "Collecting scikit-learn==0.23.1\n",
            "  Downloading scikit_learn-0.23.1-cp37-cp37m-manylinux1_x86_64.whl (6.8 MB)\n",
            "\u001b[K     |████████████████████████████████| 6.8 MB 48.5 MB/s \n",
            "\u001b[?25hRequirement already satisfied: scipy>=0.19.1 in /usr/local/lib/python3.7/dist-packages (from scikit-learn==0.23.1) (1.7.3)\n",
            "Requirement already satisfied: threadpoolctl>=2.0.0 in /usr/local/lib/python3.7/dist-packages (from scikit-learn==0.23.1) (3.1.0)\n",
            "Requirement already satisfied: numpy>=1.13.3 in /usr/local/lib/python3.7/dist-packages (from scikit-learn==0.23.1) (1.21.6)\n",
            "Requirement already satisfied: joblib>=0.11 in /usr/local/lib/python3.7/dist-packages (from scikit-learn==0.23.1) (1.2.0)\n",
            "Installing collected packages: scikit-learn\n",
            "  Attempting uninstall: scikit-learn\n",
            "    Found existing installation: scikit-learn 1.0.2\n",
            "    Uninstalling scikit-learn-1.0.2:\n",
            "      Successfully uninstalled scikit-learn-1.0.2\n",
            "\u001b[31mERROR: pip's dependency resolver does not currently take into account all the packages that are installed. This behaviour is the source of the following dependency conflicts.\n",
            "yellowbrick 1.5 requires scikit-learn>=1.0.0, but you have scikit-learn 0.23.1 which is incompatible.\n",
            "imbalanced-learn 0.8.1 requires scikit-learn>=0.24, but you have scikit-learn 0.23.1 which is incompatible.\u001b[0m\n",
            "Successfully installed scikit-learn-0.23.1\n",
            "Looking in indexes: https://pypi.org/simple, https://us-python.pkg.dev/colab-wheels/public/simple/\n",
            "Collecting sklearn_crfsuite\n",
            "  Downloading sklearn_crfsuite-0.3.6-py2.py3-none-any.whl (12 kB)\n",
            "Requirement already satisfied: tqdm>=2.0 in /usr/local/lib/python3.7/dist-packages (from sklearn_crfsuite) (4.64.1)\n",
            "Collecting python-crfsuite>=0.8.3\n",
            "  Downloading python_crfsuite-0.9.8-cp37-cp37m-manylinux_2_17_x86_64.manylinux2014_x86_64.whl (965 kB)\n",
            "\u001b[K     |████████████████████████████████| 965 kB 15.1 MB/s \n",
            "\u001b[?25hRequirement already satisfied: six in /usr/local/lib/python3.7/dist-packages (from sklearn_crfsuite) (1.15.0)\n",
            "Requirement already satisfied: tabulate in /usr/local/lib/python3.7/dist-packages (from sklearn_crfsuite) (0.8.10)\n",
            "Installing collected packages: python-crfsuite, sklearn-crfsuite\n",
            "Successfully installed python-crfsuite-0.9.8 sklearn-crfsuite-0.3.6\n"
          ]
        }
      ]
    },
    {
      "cell_type": "code",
      "source": [
        "from google.colab import drive\n",
        "drive.mount(\"/gdrive\", force_remount=True)"
      ],
      "metadata": {
        "colab": {
          "base_uri": "https://localhost:8080/"
        },
        "id": "ML5BTRJq2LEq",
        "outputId": "e0f06838-eeb8-45b0-9635-de44d5225991"
      },
      "id": "ML5BTRJq2LEq",
      "execution_count": null,
      "outputs": [
        {
          "output_type": "stream",
          "name": "stdout",
          "text": [
            "Mounted at /gdrive\n"
          ]
        }
      ]
    },
    {
      "cell_type": "markdown",
      "source": [
        "**CRFs를 이용해서 자동 띄어쓰기를 수행하는 프로그램**\n",
        "---\n",
        "sequence labeling\n",
        "\n",
        "입력(관측): 한글 음절\n",
        "\n",
        "출력(레이블): B, I -> BIO 노테이션이라고 함\n",
        "\n",
        "데이터 형식: 한글 음절 열 \\t 레이블 열\n",
        "\n",
        "예시: 나 는 사 과 가 좋 아 \\t B I B I I B I"
      ],
      "metadata": {
        "id": "JbTFpuU3qhkr"
      },
      "id": "JbTFpuU3qhkr"
    },
    {
      "cell_type": "code",
      "source": [
        "import os\n",
        "import sklearn_crfsuite\n",
        "from sklearn_crfsuite import metrics\n",
        "\n",
        "\n",
        "# 파일 경로\n",
        "file_path = \"/gdrive/MyDrive/machine learning/labeling_data.txt\"\n",
        "\n",
        "# \"labeling_data.text.txt\" 파일을 읽고 lines에 읽은 데이터를 저장\n",
        "with open(file_path, \"r\", encoding=\"utf8\") as inFile:\n",
        "    lines = inFile.readlines()\n",
        "\n",
        "# 데이터를 음절로 이루어진 문장과 정답 값으로 나누어 저장\n",
        "datas = []\n",
        "\n",
        "for line in lines:\n",
        "  pieces = line.strip().split(\"\\t\")\n",
        "  eumjeol_sequence, label = pieces[0].split(), pieces[1].split()\n",
        "  datas.append((eumjeol_sequence, label))\n",
        "\n",
        "number_of_train_datas = int(len(datas)*0.9)\n",
        "\n",
        "train_datas = datas[:number_of_train_datas]\n",
        "test_datas = datas[number_of_train_datas:]\n",
        "          \n",
        "print(\"train_datas 개수 : \" + str(len(train_datas)))          \n",
        "print(\"test_datas 개수 : \" + str(len(test_datas)))"
      ],
      "metadata": {
        "id": "Aq-vAgPJq4e7",
        "colab": {
          "base_uri": "https://localhost:8080/"
        },
        "outputId": "081c358b-7cf2-4ade-8fd9-8b3fb7695ca0"
      },
      "id": "Aq-vAgPJq4e7",
      "execution_count": null,
      "outputs": [
        {
          "output_type": "stream",
          "name": "stdout",
          "text": [
            "train_datas 개수 : 9000\n",
            "test_datas 개수 : 1000\n"
          ]
        }
      ]
    },
    {
      "cell_type": "code",
      "source": [
        "# def IS_KOREAN(input):\n",
        "#    if ord('가') <= ord(input) <= ord('힣'):\n",
        "#      return True\n",
        "#    else:\n",
        "#      return False"
      ],
      "metadata": {
        "id": "4NpYbDnrE25j"
      },
      "id": "4NpYbDnrE25j",
      "execution_count": null,
      "outputs": []
    },
    {
      "cell_type": "code",
      "source": [
        "def sent2feature(eumjeol_sequence):\n",
        "  features = []\n",
        "  sequence_length = len(eumjeol_sequence)\n",
        "  for index, eumjeol in enumerate(eumjeol_sequence):\n",
        "      feature = { \"BOS\":False, \"EOS\":False, \"WORD\":eumjeol, \"IS_DIGIT\":eumjeol.isdigit(), \"IS_PARTICLE\":False }\n",
        "\n",
        "      if(index == 0):\n",
        "        feature[\"BOS\"] = True\n",
        "      elif(index == sequence_length-1):\n",
        "        feature[\"EOS\"] = True\n",
        "      \n",
        "      if(index-1 >= 0):\n",
        "        feature[\"-1_WORD\"] = eumjeol_sequence[index-1]\n",
        "      if(index-2 >= 0):\n",
        "        feature[\"-2_WORD\"] = eumjeol_sequence[index-2]\n",
        "      if(index-3 >= 0):\n",
        "        feature[\"-3_WORD\"] = eumjeol_sequence[index-3]\n",
        "\n",
        "      if(index+1 <= sequence_length-1):\n",
        "        feature[\"+1_WORD\"] = eumjeol_sequence[index+1]\n",
        "      if(index+2 <= sequence_length-1):\n",
        "        feature[\"+2_WORD\"] = eumjeol_sequence[index+2]\n",
        "      if(index-2 >= sequence_length-1):\n",
        "        feature[\"+3_WORD\"] = eumjeol_sequence[index+3]\n",
        "      \n",
        "      # 영어면 B~I까지 음절 띄어쓰기 넣기  /효과가 좋지 않아서 제외\n",
        "      # if(eumjeol.encode().isalpha()):\n",
        "      #  feature[\"IS_ALPHA\"] = True\n",
        "\n",
        "      if(eumjeol == '은' or eumjeol == '는' or eumjeol == '이' or eumjeol == '가' or eumjeol == '을' or eumjeol == '를' or eumjeol == '다' or eumjeol == '며'):\n",
        "        feature[\"IS_PARTICLE\"] = True\n",
        "\n",
        "      # if(IS_KOREAN(eumjeol)):\n",
        "      #   feature[\"IS_KOREAN\"] = True\n",
        "\n",
        "      features.append(feature)\n",
        "\n",
        "  return features"
      ],
      "metadata": {
        "id": "AbGeRN3_1NZt"
      },
      "id": "AbGeRN3_1NZt",
      "execution_count": null,
      "outputs": []
    },
    {
      "cell_type": "code",
      "source": [
        "train_x, train_y = [], []\n",
        "for eumjeol_sequence, label in train_datas:\n",
        "    train_x.append(sent2feature(eumjeol_sequence))\n",
        "    train_y.append(label)\n",
        "\n",
        "test_x, test_y = [], []\n",
        "for eumjeol_sequence, label in test_datas:\n",
        "    test_x.append(sent2feature(eumjeol_sequence))\n",
        "    test_y.append(label)\n",
        "\n",
        "print(train_x[0:5])\n",
        "print()\n",
        "print(train_y[0:5])"
      ],
      "metadata": {
        "colab": {
          "base_uri": "https://localhost:8080/"
        },
        "id": "4PUGBAPP-kS6",
        "outputId": "3dbeb15c-1841-422a-e0c6-c770d45f4c10"
      },
      "id": "4PUGBAPP-kS6",
      "execution_count": null,
      "outputs": [
        {
          "output_type": "stream",
          "name": "stdout",
          "text": [
            "[[{'BOS': True, 'EOS': False, 'WORD': '의', 'IS_DIGIT': False, 'IS_PARTICLE': False, '+1_WORD': '료', '+2_WORD': '기'}, {'BOS': False, 'EOS': False, 'WORD': '료', 'IS_DIGIT': False, 'IS_PARTICLE': False, '-1_WORD': '의', '+1_WORD': '기', '+2_WORD': '관'}, {'BOS': False, 'EOS': False, 'WORD': '기', 'IS_DIGIT': False, 'IS_PARTICLE': False, '-1_WORD': '료', '-2_WORD': '의', '+1_WORD': '관', '+2_WORD': '이'}, {'BOS': False, 'EOS': False, 'WORD': '관', 'IS_DIGIT': False, 'IS_PARTICLE': False, '-1_WORD': '기', '-2_WORD': '료', '-3_WORD': '의', '+1_WORD': '이', '+2_WORD': '문'}, {'BOS': False, 'EOS': False, 'WORD': '이', 'IS_DIGIT': False, 'IS_PARTICLE': True, '-1_WORD': '관', '-2_WORD': '기', '-3_WORD': '료', '+1_WORD': '문', '+2_WORD': '을'}, {'BOS': False, 'EOS': False, 'WORD': '문', 'IS_DIGIT': False, 'IS_PARTICLE': False, '-1_WORD': '이', '-2_WORD': '관', '-3_WORD': '기', '+1_WORD': '을', '+2_WORD': '닫'}, {'BOS': False, 'EOS': False, 'WORD': '을', 'IS_DIGIT': False, 'IS_PARTICLE': True, '-1_WORD': '문', '-2_WORD': '이', '-3_WORD': '관', '+1_WORD': '닫', '+2_WORD': '는'}, {'BOS': False, 'EOS': False, 'WORD': '닫', 'IS_DIGIT': False, 'IS_PARTICLE': False, '-1_WORD': '을', '-2_WORD': '문', '-3_WORD': '이', '+1_WORD': '는', '+2_WORD': '명'}, {'BOS': False, 'EOS': False, 'WORD': '는', 'IS_DIGIT': False, 'IS_PARTICLE': True, '-1_WORD': '닫', '-2_WORD': '을', '-3_WORD': '문', '+1_WORD': '명', '+2_WORD': '절'}, {'BOS': False, 'EOS': False, 'WORD': '명', 'IS_DIGIT': False, 'IS_PARTICLE': False, '-1_WORD': '는', '-2_WORD': '닫', '-3_WORD': '을', '+1_WORD': '절', '+2_WORD': '기'}, {'BOS': False, 'EOS': False, 'WORD': '절', 'IS_DIGIT': False, 'IS_PARTICLE': False, '-1_WORD': '명', '-2_WORD': '는', '-3_WORD': '닫', '+1_WORD': '기', '+2_WORD': '간'}, {'BOS': False, 'EOS': False, 'WORD': '기', 'IS_DIGIT': False, 'IS_PARTICLE': False, '-1_WORD': '절', '-2_WORD': '명', '-3_WORD': '는', '+1_WORD': '간', '+2_WORD': ','}, {'BOS': False, 'EOS': False, 'WORD': '간', 'IS_DIGIT': False, 'IS_PARTICLE': False, '-1_WORD': '기', '-2_WORD': '절', '-3_WORD': '명', '+1_WORD': ',', '+2_WORD': '예'}, {'BOS': False, 'EOS': False, 'WORD': ',', 'IS_DIGIT': False, 'IS_PARTICLE': False, '-1_WORD': '간', '-2_WORD': '기', '-3_WORD': '절', '+1_WORD': '예', '+2_WORD': '기'}, {'BOS': False, 'EOS': False, 'WORD': '예', 'IS_DIGIT': False, 'IS_PARTICLE': False, '-1_WORD': ',', '-2_WORD': '간', '-3_WORD': '기', '+1_WORD': '기', '+2_WORD': '치'}, {'BOS': False, 'EOS': False, 'WORD': '기', 'IS_DIGIT': False, 'IS_PARTICLE': False, '-1_WORD': '예', '-2_WORD': ',', '-3_WORD': '간', '+1_WORD': '치', '+2_WORD': '않'}, {'BOS': False, 'EOS': False, 'WORD': '치', 'IS_DIGIT': False, 'IS_PARTICLE': False, '-1_WORD': '기', '-2_WORD': '예', '-3_WORD': ',', '+1_WORD': '않', '+2_WORD': '은'}, {'BOS': False, 'EOS': False, 'WORD': '않', 'IS_DIGIT': False, 'IS_PARTICLE': False, '-1_WORD': '치', '-2_WORD': '기', '-3_WORD': '예', '+1_WORD': '은', '+2_WORD': '응'}, {'BOS': False, 'EOS': False, 'WORD': '은', 'IS_DIGIT': False, 'IS_PARTICLE': True, '-1_WORD': '않', '-2_WORD': '치', '-3_WORD': '기', '+1_WORD': '응', '+2_WORD': '급'}, {'BOS': False, 'EOS': False, 'WORD': '응', 'IS_DIGIT': False, 'IS_PARTICLE': False, '-1_WORD': '은', '-2_WORD': '않', '-3_WORD': '치', '+1_WORD': '급', '+2_WORD': '상'}, {'BOS': False, 'EOS': False, 'WORD': '급', 'IS_DIGIT': False, 'IS_PARTICLE': False, '-1_WORD': '응', '-2_WORD': '은', '-3_WORD': '않', '+1_WORD': '상', '+2_WORD': '황'}, {'BOS': False, 'EOS': False, 'WORD': '상', 'IS_DIGIT': False, 'IS_PARTICLE': False, '-1_WORD': '급', '-2_WORD': '응', '-3_WORD': '은', '+1_WORD': '황', '+2_WORD': '이'}, {'BOS': False, 'EOS': False, 'WORD': '황', 'IS_DIGIT': False, 'IS_PARTICLE': False, '-1_WORD': '상', '-2_WORD': '급', '-3_WORD': '응', '+1_WORD': '이', '+2_WORD': '발'}, {'BOS': False, 'EOS': False, 'WORD': '이', 'IS_DIGIT': False, 'IS_PARTICLE': True, '-1_WORD': '황', '-2_WORD': '상', '-3_WORD': '급', '+1_WORD': '발', '+2_WORD': '생'}, {'BOS': False, 'EOS': False, 'WORD': '발', 'IS_DIGIT': False, 'IS_PARTICLE': False, '-1_WORD': '이', '-2_WORD': '황', '-3_WORD': '상', '+1_WORD': '생', '+2_WORD': '하'}, {'BOS': False, 'EOS': False, 'WORD': '생', 'IS_DIGIT': False, 'IS_PARTICLE': False, '-1_WORD': '발', '-2_WORD': '이', '-3_WORD': '황', '+1_WORD': '하', '+2_WORD': '며'}, {'BOS': False, 'EOS': False, 'WORD': '하', 'IS_DIGIT': False, 'IS_PARTICLE': False, '-1_WORD': '생', '-2_WORD': '발', '-3_WORD': '이', '+1_WORD': '며', '+2_WORD': '어'}, {'BOS': False, 'EOS': False, 'WORD': '며', 'IS_DIGIT': False, 'IS_PARTICLE': True, '-1_WORD': '하', '-2_WORD': '생', '-3_WORD': '발', '+1_WORD': '어', '+2_WORD': '떡'}, {'BOS': False, 'EOS': False, 'WORD': '어', 'IS_DIGIT': False, 'IS_PARTICLE': False, '-1_WORD': '며', '-2_WORD': '하', '-3_WORD': '생', '+1_WORD': '떡', '+2_WORD': '해'}, {'BOS': False, 'EOS': False, 'WORD': '떡', 'IS_DIGIT': False, 'IS_PARTICLE': False, '-1_WORD': '어', '-2_WORD': '며', '-3_WORD': '하', '+1_WORD': '해', '+2_WORD': '야'}, {'BOS': False, 'EOS': False, 'WORD': '해', 'IS_DIGIT': False, 'IS_PARTICLE': False, '-1_WORD': '떡', '-2_WORD': '어', '-3_WORD': '며', '+1_WORD': '야', '+2_WORD': '할'}, {'BOS': False, 'EOS': False, 'WORD': '야', 'IS_DIGIT': False, 'IS_PARTICLE': False, '-1_WORD': '해', '-2_WORD': '떡', '-3_WORD': '어', '+1_WORD': '할', '+2_WORD': '까'}, {'BOS': False, 'EOS': False, 'WORD': '할', 'IS_DIGIT': False, 'IS_PARTICLE': False, '-1_WORD': '야', '-2_WORD': '해', '-3_WORD': '떡', '+1_WORD': '까', '+2_WORD': '?'}, {'BOS': False, 'EOS': False, 'WORD': '까', 'IS_DIGIT': False, 'IS_PARTICLE': False, '-1_WORD': '할', '-2_WORD': '야', '-3_WORD': '해', '+1_WORD': '?'}, {'BOS': False, 'EOS': True, 'WORD': '?', 'IS_DIGIT': False, 'IS_PARTICLE': False, '-1_WORD': '까', '-2_WORD': '할', '-3_WORD': '야'}], [{'BOS': True, 'EOS': False, 'WORD': '.', 'IS_DIGIT': False, 'IS_PARTICLE': False, '+1_WORD': '1', '+2_WORD': '4'}, {'BOS': False, 'EOS': False, 'WORD': '1', 'IS_DIGIT': True, 'IS_PARTICLE': False, '-1_WORD': '.', '+1_WORD': '4', '+2_WORD': '일'}, {'BOS': False, 'EOS': False, 'WORD': '4', 'IS_DIGIT': True, 'IS_PARTICLE': False, '-1_WORD': '1', '-2_WORD': '.', '+1_WORD': '일', '+2_WORD': '오'}, {'BOS': False, 'EOS': False, 'WORD': '일', 'IS_DIGIT': False, 'IS_PARTICLE': False, '-1_WORD': '4', '-2_WORD': '1', '-3_WORD': '.', '+1_WORD': '오', '+2_WORD': '후'}, {'BOS': False, 'EOS': False, 'WORD': '오', 'IS_DIGIT': False, 'IS_PARTICLE': False, '-1_WORD': '일', '-2_WORD': '4', '-3_WORD': '1', '+1_WORD': '후', '+2_WORD': '육'}, {'BOS': False, 'EOS': False, 'WORD': '후', 'IS_DIGIT': False, 'IS_PARTICLE': False, '-1_WORD': '오', '-2_WORD': '일', '-3_WORD': '4', '+1_WORD': '육', '+2_WORD': '군'}, {'BOS': False, 'EOS': False, 'WORD': '육', 'IS_DIGIT': False, 'IS_PARTICLE': False, '-1_WORD': '후', '-2_WORD': '오', '-3_WORD': '일', '+1_WORD': '군', '+2_WORD': '3'}, {'BOS': False, 'EOS': False, 'WORD': '군', 'IS_DIGIT': False, 'IS_PARTICLE': False, '-1_WORD': '육', '-2_WORD': '후', '-3_WORD': '오', '+1_WORD': '3', '+2_WORD': '1'}, {'BOS': False, 'EOS': False, 'WORD': '3', 'IS_DIGIT': True, 'IS_PARTICLE': False, '-1_WORD': '군', '-2_WORD': '육', '-3_WORD': '후', '+1_WORD': '1', '+2_WORD': '사'}, {'BOS': False, 'EOS': False, 'WORD': '1', 'IS_DIGIT': True, 'IS_PARTICLE': False, '-1_WORD': '3', '-2_WORD': '군', '-3_WORD': '육', '+1_WORD': '사', '+2_WORD': '단'}, {'BOS': False, 'EOS': False, 'WORD': '사', 'IS_DIGIT': False, 'IS_PARTICLE': False, '-1_WORD': '1', '-2_WORD': '3', '-3_WORD': '군', '+1_WORD': '단', '+2_WORD': '신'}, {'BOS': False, 'EOS': False, 'WORD': '단', 'IS_DIGIT': False, 'IS_PARTICLE': False, '-1_WORD': '사', '-2_WORD': '1', '-3_WORD': '3', '+1_WORD': '신', '+2_WORD': '병'}, {'BOS': False, 'EOS': False, 'WORD': '신', 'IS_DIGIT': False, 'IS_PARTICLE': False, '-1_WORD': '단', '-2_WORD': '사', '-3_WORD': '1', '+1_WORD': '병', '+2_WORD': '교'}, {'BOS': False, 'EOS': False, 'WORD': '병', 'IS_DIGIT': False, 'IS_PARTICLE': False, '-1_WORD': '신', '-2_WORD': '단', '-3_WORD': '사', '+1_WORD': '교', '+2_WORD': '육'}, {'BOS': False, 'EOS': False, 'WORD': '교', 'IS_DIGIT': False, 'IS_PARTICLE': False, '-1_WORD': '병', '-2_WORD': '신', '-3_WORD': '단', '+1_WORD': '육', '+2_WORD': '대'}, {'BOS': False, 'EOS': False, 'WORD': '육', 'IS_DIGIT': False, 'IS_PARTICLE': False, '-1_WORD': '교', '-2_WORD': '병', '-3_WORD': '신', '+1_WORD': '대', '+2_WORD': '대'}, {'BOS': False, 'EOS': False, 'WORD': '대', 'IS_DIGIT': False, 'IS_PARTICLE': False, '-1_WORD': '육', '-2_WORD': '교', '-3_WORD': '병', '+1_WORD': '대', '+2_WORD': '에'}, {'BOS': False, 'EOS': False, 'WORD': '대', 'IS_DIGIT': False, 'IS_PARTICLE': False, '-1_WORD': '대', '-2_WORD': '육', '-3_WORD': '교', '+1_WORD': '에', '+2_WORD': '서'}, {'BOS': False, 'EOS': False, 'WORD': '에', 'IS_DIGIT': False, 'IS_PARTICLE': False, '-1_WORD': '대', '-2_WORD': '대', '-3_WORD': '육', '+1_WORD': '서', '+2_WORD': '광'}, {'BOS': False, 'EOS': False, 'WORD': '서', 'IS_DIGIT': False, 'IS_PARTICLE': False, '-1_WORD': '에', '-2_WORD': '대', '-3_WORD': '대', '+1_WORD': '광', '+2_WORD': '주'}, {'BOS': False, 'EOS': False, 'WORD': '광', 'IS_DIGIT': False, 'IS_PARTICLE': False, '-1_WORD': '서', '-2_WORD': '에', '-3_WORD': '대', '+1_WORD': '주', '+2_WORD': '·'}, {'BOS': False, 'EOS': False, 'WORD': '주', 'IS_DIGIT': False, 'IS_PARTICLE': False, '-1_WORD': '광', '-2_WORD': '서', '-3_WORD': '에', '+1_WORD': '·', '+2_WORD': '전'}, {'BOS': False, 'EOS': False, 'WORD': '·', 'IS_DIGIT': False, 'IS_PARTICLE': False, '-1_WORD': '주', '-2_WORD': '광', '-3_WORD': '서', '+1_WORD': '전', '+2_WORD': '남'}, {'BOS': False, 'EOS': False, 'WORD': '전', 'IS_DIGIT': False, 'IS_PARTICLE': False, '-1_WORD': '·', '-2_WORD': '주', '-3_WORD': '광', '+1_WORD': '남', '+2_WORD': '지'}, {'BOS': False, 'EOS': False, 'WORD': '남', 'IS_DIGIT': False, 'IS_PARTICLE': False, '-1_WORD': '전', '-2_WORD': '·', '-3_WORD': '주', '+1_WORD': '지', '+2_WORD': '역'}, {'BOS': False, 'EOS': False, 'WORD': '지', 'IS_DIGIT': False, 'IS_PARTICLE': False, '-1_WORD': '남', '-2_WORD': '전', '-3_WORD': '·', '+1_WORD': '역', '+2_WORD': '올'}, {'BOS': False, 'EOS': False, 'WORD': '역', 'IS_DIGIT': False, 'IS_PARTICLE': False, '-1_WORD': '지', '-2_WORD': '남', '-3_WORD': '전', '+1_WORD': '올', '+2_WORD': '첫'}, {'BOS': False, 'EOS': False, 'WORD': '올', 'IS_DIGIT': False, 'IS_PARTICLE': False, '-1_WORD': '역', '-2_WORD': '지', '-3_WORD': '남', '+1_WORD': '첫', '+2_WORD': '입'}, {'BOS': False, 'EOS': False, 'WORD': '첫', 'IS_DIGIT': False, 'IS_PARTICLE': False, '-1_WORD': '올', '-2_WORD': '역', '-3_WORD': '지', '+1_WORD': '입', '+2_WORD': '영'}, {'BOS': False, 'EOS': False, 'WORD': '입', 'IS_DIGIT': False, 'IS_PARTICLE': False, '-1_WORD': '첫', '-2_WORD': '올', '-3_WORD': '역', '+1_WORD': '영', '+2_WORD': '자'}, {'BOS': False, 'EOS': False, 'WORD': '영', 'IS_DIGIT': False, 'IS_PARTICLE': False, '-1_WORD': '입', '-2_WORD': '첫', '-3_WORD': '올', '+1_WORD': '자', '+2_WORD': '들'}, {'BOS': False, 'EOS': False, 'WORD': '자', 'IS_DIGIT': False, 'IS_PARTICLE': False, '-1_WORD': '영', '-2_WORD': '입', '-3_WORD': '첫', '+1_WORD': '들', '+2_WORD': '이'}, {'BOS': False, 'EOS': False, 'WORD': '들', 'IS_DIGIT': False, 'IS_PARTICLE': False, '-1_WORD': '자', '-2_WORD': '영', '-3_WORD': '입', '+1_WORD': '이', '+2_WORD': '입'}, {'BOS': False, 'EOS': False, 'WORD': '이', 'IS_DIGIT': False, 'IS_PARTICLE': True, '-1_WORD': '들', '-2_WORD': '자', '-3_WORD': '영', '+1_WORD': '입', '+2_WORD': '영'}, {'BOS': False, 'EOS': False, 'WORD': '입', 'IS_DIGIT': False, 'IS_PARTICLE': False, '-1_WORD': '이', '-2_WORD': '들', '-3_WORD': '자', '+1_WORD': '영', '+2_WORD': '행'}, {'BOS': False, 'EOS': False, 'WORD': '영', 'IS_DIGIT': False, 'IS_PARTICLE': False, '-1_WORD': '입', '-2_WORD': '이', '-3_WORD': '들', '+1_WORD': '행', '+2_WORD': '사'}, {'BOS': False, 'EOS': False, 'WORD': '행', 'IS_DIGIT': False, 'IS_PARTICLE': False, '-1_WORD': '영', '-2_WORD': '입', '-3_WORD': '이', '+1_WORD': '사', '+2_WORD': '장'}, {'BOS': False, 'EOS': False, 'WORD': '사', 'IS_DIGIT': False, 'IS_PARTICLE': False, '-1_WORD': '행', '-2_WORD': '영', '-3_WORD': '입', '+1_WORD': '장', '+2_WORD': '으'}, {'BOS': False, 'EOS': False, 'WORD': '장', 'IS_DIGIT': False, 'IS_PARTICLE': False, '-1_WORD': '사', '-2_WORD': '행', '-3_WORD': '영', '+1_WORD': '으', '+2_WORD': '로'}, {'BOS': False, 'EOS': False, 'WORD': '으', 'IS_DIGIT': False, 'IS_PARTICLE': False, '-1_WORD': '장', '-2_WORD': '사', '-3_WORD': '행', '+1_WORD': '로', '+2_WORD': '('}, {'BOS': False, 'EOS': False, 'WORD': '로', 'IS_DIGIT': False, 'IS_PARTICLE': False, '-1_WORD': '으', '-2_WORD': '장', '-3_WORD': '사', '+1_WORD': '(', '+2_WORD': '이'}, {'BOS': False, 'EOS': False, 'WORD': '(', 'IS_DIGIT': False, 'IS_PARTICLE': False, '-1_WORD': '로', '-2_WORD': '으', '-3_WORD': '장', '+1_WORD': '이', '+2_WORD': '름'}, {'BOS': False, 'EOS': False, 'WORD': '이', 'IS_DIGIT': False, 'IS_PARTICLE': True, '-1_WORD': '(', '-2_WORD': '로', '-3_WORD': '으', '+1_WORD': '름', '+2_WORD': ')'}, {'BOS': False, 'EOS': False, 'WORD': '름', 'IS_DIGIT': False, 'IS_PARTICLE': False, '-1_WORD': '이', '-2_WORD': '(', '-3_WORD': '로', '+1_WORD': ')', '+2_WORD': '고'}, {'BOS': False, 'EOS': False, 'WORD': ')', 'IS_DIGIT': False, 'IS_PARTICLE': False, '-1_WORD': '름', '-2_WORD': '이', '-3_WORD': '(', '+1_WORD': '고', '+2_WORD': '있'}, {'BOS': False, 'EOS': False, 'WORD': '고', 'IS_DIGIT': False, 'IS_PARTICLE': False, '-1_WORD': ')', '-2_WORD': '름', '-3_WORD': '이', '+1_WORD': '있', '+2_WORD': '다'}, {'BOS': False, 'EOS': False, 'WORD': '있', 'IS_DIGIT': False, 'IS_PARTICLE': False, '-1_WORD': '고', '-2_WORD': ')', '-3_WORD': '름', '+1_WORD': '다', '+2_WORD': '.'}, {'BOS': False, 'EOS': False, 'WORD': '다', 'IS_DIGIT': False, 'IS_PARTICLE': True, '-1_WORD': '있', '-2_WORD': '고', '-3_WORD': ')', '+1_WORD': '.'}, {'BOS': False, 'EOS': True, 'WORD': '.', 'IS_DIGIT': False, 'IS_PARTICLE': False, '-1_WORD': '다', '-2_WORD': '있', '-3_WORD': '고'}], [{'BOS': True, 'EOS': False, 'WORD': '.', 'IS_DIGIT': False, 'IS_PARTICLE': False, '+1_WORD': '.', '+2_WORD': '.'}, {'BOS': False, 'EOS': False, 'WORD': '.', 'IS_DIGIT': False, 'IS_PARTICLE': False, '-1_WORD': '.', '+1_WORD': '.', '+2_WORD': '전'}, {'BOS': False, 'EOS': False, 'WORD': '.', 'IS_DIGIT': False, 'IS_PARTICLE': False, '-1_WORD': '.', '-2_WORD': '.', '+1_WORD': '전', '+2_WORD': '남'}, {'BOS': False, 'EOS': False, 'WORD': '전', 'IS_DIGIT': False, 'IS_PARTICLE': False, '-1_WORD': '.', '-2_WORD': '.', '-3_WORD': '.', '+1_WORD': '남', '+2_WORD': '함'}, {'BOS': False, 'EOS': False, 'WORD': '남', 'IS_DIGIT': False, 'IS_PARTICLE': False, '-1_WORD': '전', '-2_WORD': '.', '-3_WORD': '.', '+1_WORD': '함', '+2_WORD': '평'}, {'BOS': False, 'EOS': False, 'WORD': '함', 'IS_DIGIT': False, 'IS_PARTICLE': False, '-1_WORD': '남', '-2_WORD': '전', '-3_WORD': '.', '+1_WORD': '평', '+2_WORD': '출'}, {'BOS': False, 'EOS': False, 'WORD': '평', 'IS_DIGIT': False, 'IS_PARTICLE': False, '-1_WORD': '함', '-2_WORD': '남', '-3_WORD': '전', '+1_WORD': '출', '+2_WORD': '신'}, {'BOS': False, 'EOS': False, 'WORD': '출', 'IS_DIGIT': False, 'IS_PARTICLE': False, '-1_WORD': '평', '-2_WORD': '함', '-3_WORD': '남', '+1_WORD': '신', '+2_WORD': '으'}, {'BOS': False, 'EOS': False, 'WORD': '신', 'IS_DIGIT': False, 'IS_PARTICLE': False, '-1_WORD': '출', '-2_WORD': '평', '-3_WORD': '함', '+1_WORD': '으', '+2_WORD': '로'}, {'BOS': False, 'EOS': False, 'WORD': '으', 'IS_DIGIT': False, 'IS_PARTICLE': False, '-1_WORD': '신', '-2_WORD': '출', '-3_WORD': '평', '+1_WORD': '로', '+2_WORD': 'l'}, {'BOS': False, 'EOS': False, 'WORD': '로', 'IS_DIGIT': False, 'IS_PARTICLE': False, '-1_WORD': '으', '-2_WORD': '신', '-3_WORD': '출', '+1_WORD': 'l', '+2_WORD': 'p'}, {'BOS': False, 'EOS': False, 'WORD': 'l', 'IS_DIGIT': False, 'IS_PARTICLE': False, '-1_WORD': '로', '-2_WORD': '으', '-3_WORD': '신', '+1_WORD': 'p', '+2_WORD': 'g'}, {'BOS': False, 'EOS': False, 'WORD': 'p', 'IS_DIGIT': False, 'IS_PARTICLE': False, '-1_WORD': 'l', '-2_WORD': '로', '-3_WORD': '으', '+1_WORD': 'g', '+2_WORD': 'a'}, {'BOS': False, 'EOS': False, 'WORD': 'g', 'IS_DIGIT': False, 'IS_PARTICLE': False, '-1_WORD': 'p', '-2_WORD': 'l', '-3_WORD': '로', '+1_WORD': 'a', '+2_WORD': '에'}, {'BOS': False, 'EOS': False, 'WORD': 'a', 'IS_DIGIT': False, 'IS_PARTICLE': False, '-1_WORD': 'g', '-2_WORD': 'p', '-3_WORD': 'l', '+1_WORD': '에', '+2_WORD': '서'}, {'BOS': False, 'EOS': False, 'WORD': '에', 'IS_DIGIT': False, 'IS_PARTICLE': False, '-1_WORD': 'a', '-2_WORD': 'g', '-3_WORD': 'p', '+1_WORD': '서', '+2_WORD': '활'}, {'BOS': False, 'EOS': False, 'WORD': '서', 'IS_DIGIT': False, 'IS_PARTICLE': False, '-1_WORD': '에', '-2_WORD': 'a', '-3_WORD': 'g', '+1_WORD': '활', '+2_WORD': '약'}, {'BOS': False, 'EOS': False, 'WORD': '활', 'IS_DIGIT': False, 'IS_PARTICLE': False, '-1_WORD': '서', '-2_WORD': '에', '-3_WORD': 'a', '+1_WORD': '약', '+2_WORD': '하'}, {'BOS': False, 'EOS': False, 'WORD': '약', 'IS_DIGIT': False, 'IS_PARTICLE': False, '-1_WORD': '활', '-2_WORD': '서', '-3_WORD': '에', '+1_WORD': '하', '+2_WORD': '고'}, {'BOS': False, 'EOS': False, 'WORD': '하', 'IS_DIGIT': False, 'IS_PARTICLE': False, '-1_WORD': '약', '-2_WORD': '활', '-3_WORD': '서', '+1_WORD': '고', '+2_WORD': '있'}, {'BOS': False, 'EOS': False, 'WORD': '고', 'IS_DIGIT': False, 'IS_PARTICLE': False, '-1_WORD': '하', '-2_WORD': '약', '-3_WORD': '활', '+1_WORD': '있', '+2_WORD': '는'}, {'BOS': False, 'EOS': False, 'WORD': '있', 'IS_DIGIT': False, 'IS_PARTICLE': False, '-1_WORD': '고', '-2_WORD': '하', '-3_WORD': '약', '+1_WORD': '는', '+2_WORD': '('}, {'BOS': False, 'EOS': False, 'WORD': '는', 'IS_DIGIT': False, 'IS_PARTICLE': True, '-1_WORD': '있', '-2_WORD': '고', '-3_WORD': '하', '+1_WORD': '(', '+2_WORD': '이'}, {'BOS': False, 'EOS': False, 'WORD': '(', 'IS_DIGIT': False, 'IS_PARTICLE': False, '-1_WORD': '는', '-2_WORD': '있', '-3_WORD': '고', '+1_WORD': '이', '+2_WORD': '름'}, {'BOS': False, 'EOS': False, 'WORD': '이', 'IS_DIGIT': False, 'IS_PARTICLE': True, '-1_WORD': '(', '-2_WORD': '는', '-3_WORD': '있', '+1_WORD': '름', '+2_WORD': ')'}, {'BOS': False, 'EOS': False, 'WORD': '름', 'IS_DIGIT': False, 'IS_PARTICLE': False, '-1_WORD': '이', '-2_WORD': '(', '-3_WORD': '는', '+1_WORD': ')', '+2_WORD': '선'}, {'BOS': False, 'EOS': False, 'WORD': ')', 'IS_DIGIT': False, 'IS_PARTICLE': False, '-1_WORD': '름', '-2_WORD': '이', '-3_WORD': '(', '+1_WORD': '선', '+2_WORD': '수'}, {'BOS': False, 'EOS': False, 'WORD': '선', 'IS_DIGIT': False, 'IS_PARTICLE': False, '-1_WORD': ')', '-2_WORD': '름', '-3_WORD': '이', '+1_WORD': '수', '+2_WORD': '의'}, {'BOS': False, 'EOS': False, 'WORD': '수', 'IS_DIGIT': False, 'IS_PARTICLE': False, '-1_WORD': '선', '-2_WORD': ')', '-3_WORD': '름', '+1_WORD': '의', '+2_WORD': '부'}, {'BOS': False, 'EOS': False, 'WORD': '의', 'IS_DIGIT': False, 'IS_PARTICLE': False, '-1_WORD': '수', '-2_WORD': '선', '-3_WORD': ')', '+1_WORD': '부', '+2_WORD': '친'}, {'BOS': False, 'EOS': False, 'WORD': '부', 'IS_DIGIT': False, 'IS_PARTICLE': False, '-1_WORD': '의', '-2_WORD': '수', '-3_WORD': '선', '+1_WORD': '친', '+2_WORD': '신'}, {'BOS': False, 'EOS': False, 'WORD': '친', 'IS_DIGIT': False, 'IS_PARTICLE': False, '-1_WORD': '부', '-2_WORD': '의', '-3_WORD': '수', '+1_WORD': '신', '+2_WORD': '제'}, {'BOS': False, 'EOS': False, 'WORD': '신', 'IS_DIGIT': False, 'IS_PARTICLE': False, '-1_WORD': '친', '-2_WORD': '부', '-3_WORD': '의', '+1_WORD': '제', '+2_WORD': '섭'}, {'BOS': False, 'EOS': False, 'WORD': '제', 'IS_DIGIT': False, 'IS_PARTICLE': False, '-1_WORD': '신', '-2_WORD': '친', '-3_WORD': '부', '+1_WORD': '섭', '+2_WORD': '('}, {'BOS': False, 'EOS': False, 'WORD': '섭', 'IS_DIGIT': False, 'IS_PARTICLE': False, '-1_WORD': '제', '-2_WORD': '신', '-3_WORD': '친', '+1_WORD': '(', '+2_WORD': '5'}, {'BOS': False, 'EOS': False, 'WORD': '(', 'IS_DIGIT': False, 'IS_PARTICLE': False, '-1_WORD': '섭', '-2_WORD': '제', '-3_WORD': '신', '+1_WORD': '5', '+2_WORD': '3'}, {'BOS': False, 'EOS': False, 'WORD': '5', 'IS_DIGIT': True, 'IS_PARTICLE': False, '-1_WORD': '(', '-2_WORD': '섭', '-3_WORD': '제', '+1_WORD': '3', '+2_WORD': ')'}, {'BOS': False, 'EOS': False, 'WORD': '3', 'IS_DIGIT': True, 'IS_PARTICLE': False, '-1_WORD': '5', '-2_WORD': '(', '-3_WORD': '섭', '+1_WORD': ')', '+2_WORD': '성'}, {'BOS': False, 'EOS': False, 'WORD': ')', 'IS_DIGIT': False, 'IS_PARTICLE': False, '-1_WORD': '3', '-2_WORD': '5', '-3_WORD': '(', '+1_WORD': '성', '+2_WORD': '은'}, {'BOS': False, 'EOS': False, 'WORD': '성', 'IS_DIGIT': False, 'IS_PARTICLE': False, '-1_WORD': ')', '-2_WORD': '3', '-3_WORD': '5', '+1_WORD': '은', '+2_WORD': '선'}, {'BOS': False, 'EOS': False, 'WORD': '은', 'IS_DIGIT': False, 'IS_PARTICLE': True, '-1_WORD': '성', '-2_WORD': ')', '-3_WORD': '3', '+1_WORD': '선', '+2_WORD': '교'}, {'BOS': False, 'EOS': False, 'WORD': '선', 'IS_DIGIT': False, 'IS_PARTICLE': False, '-1_WORD': '은', '-2_WORD': '성', '-3_WORD': ')', '+1_WORD': '교', '+2_WORD': '회'}, {'BOS': False, 'EOS': False, 'WORD': '교', 'IS_DIGIT': False, 'IS_PARTICLE': False, '-1_WORD': '선', '-2_WORD': '은', '-3_WORD': '성', '+1_WORD': '회', '+2_WORD': '대'}, {'BOS': False, 'EOS': False, 'WORD': '회', 'IS_DIGIT': False, 'IS_PARTICLE': False, '-1_WORD': '교', '-2_WORD': '선', '-3_WORD': '은', '+1_WORD': '대', '+2_WORD': '표'}, {'BOS': False, 'EOS': False, 'WORD': '대', 'IS_DIGIT': False, 'IS_PARTICLE': False, '-1_WORD': '회', '-2_WORD': '교', '-3_WORD': '선', '+1_WORD': '표', '+2_WORD': '가'}, {'BOS': False, 'EOS': False, 'WORD': '표', 'IS_DIGIT': False, 'IS_PARTICLE': False, '-1_WORD': '대', '-2_WORD': '회', '-3_WORD': '교', '+1_WORD': '가', '+2_WORD': '3'}, {'BOS': False, 'EOS': False, 'WORD': '가', 'IS_DIGIT': False, 'IS_PARTICLE': True, '-1_WORD': '표', '-2_WORD': '대', '-3_WORD': '회', '+1_WORD': '3', '+2_WORD': '4'}, {'BOS': False, 'EOS': False, 'WORD': '3', 'IS_DIGIT': True, 'IS_PARTICLE': False, '-1_WORD': '가', '-2_WORD': '표', '-3_WORD': '대', '+1_WORD': '4', '+2_WORD': '년'}, {'BOS': False, 'EOS': False, 'WORD': '4', 'IS_DIGIT': True, 'IS_PARTICLE': False, '-1_WORD': '3', '-2_WORD': '가', '-3_WORD': '표', '+1_WORD': '년', '+2_WORD': '만'}, {'BOS': False, 'EOS': False, 'WORD': '년', 'IS_DIGIT': False, 'IS_PARTICLE': False, '-1_WORD': '4', '-2_WORD': '3', '-3_WORD': '가', '+1_WORD': '만', '+2_WORD': '에'}, {'BOS': False, 'EOS': False, 'WORD': '만', 'IS_DIGIT': False, 'IS_PARTICLE': False, '-1_WORD': '년', '-2_WORD': '4', '-3_WORD': '3', '+1_WORD': '에', '+2_WORD': '전'}, {'BOS': False, 'EOS': False, 'WORD': '에', 'IS_DIGIT': False, 'IS_PARTICLE': False, '-1_WORD': '만', '-2_WORD': '년', '-3_WORD': '4', '+1_WORD': '전', '+2_WORD': '남'}, {'BOS': False, 'EOS': False, 'WORD': '전', 'IS_DIGIT': False, 'IS_PARTICLE': False, '-1_WORD': '에', '-2_WORD': '만', '-3_WORD': '년', '+1_WORD': '남', '+2_WORD': '대'}, {'BOS': False, 'EOS': False, 'WORD': '남', 'IS_DIGIT': False, 'IS_PARTICLE': False, '-1_WORD': '전', '-2_WORD': '에', '-3_WORD': '만', '+1_WORD': '대', '+2_WORD': '를'}, {'BOS': False, 'EOS': False, 'WORD': '대', 'IS_DIGIT': False, 'IS_PARTICLE': False, '-1_WORD': '남', '-2_WORD': '전', '-3_WORD': '에', '+1_WORD': '를', '+2_WORD': '졸'}, {'BOS': False, 'EOS': False, 'WORD': '를', 'IS_DIGIT': False, 'IS_PARTICLE': True, '-1_WORD': '대', '-2_WORD': '남', '-3_WORD': '전', '+1_WORD': '졸', '+2_WORD': '업'}, {'BOS': False, 'EOS': False, 'WORD': '졸', 'IS_DIGIT': False, 'IS_PARTICLE': False, '-1_WORD': '를', '-2_WORD': '대', '-3_WORD': '남', '+1_WORD': '업', '+2_WORD': '하'}, {'BOS': False, 'EOS': False, 'WORD': '업', 'IS_DIGIT': False, 'IS_PARTICLE': False, '-1_WORD': '졸', '-2_WORD': '를', '-3_WORD': '대', '+1_WORD': '하', '+2_WORD': '면'}, {'BOS': False, 'EOS': False, 'WORD': '하', 'IS_DIGIT': False, 'IS_PARTICLE': False, '-1_WORD': '업', '-2_WORD': '졸', '-3_WORD': '를', '+1_WORD': '면', '+2_WORD': '서'}, {'BOS': False, 'EOS': False, 'WORD': '면', 'IS_DIGIT': False, 'IS_PARTICLE': False, '-1_WORD': '하', '-2_WORD': '업', '-3_WORD': '졸', '+1_WORD': '서', '+2_WORD': '장'}, {'BOS': False, 'EOS': False, 'WORD': '서', 'IS_DIGIT': False, 'IS_PARTICLE': False, '-1_WORD': '면', '-2_WORD': '하', '-3_WORD': '업', '+1_WORD': '장', '+2_WORD': '학'}, {'BOS': False, 'EOS': False, 'WORD': '장', 'IS_DIGIT': False, 'IS_PARTICLE': False, '-1_WORD': '서', '-2_WORD': '면', '-3_WORD': '하', '+1_WORD': '학', '+2_WORD': '금'}, {'BOS': False, 'EOS': False, 'WORD': '학', 'IS_DIGIT': False, 'IS_PARTICLE': False, '-1_WORD': '장', '-2_WORD': '서', '-3_WORD': '면', '+1_WORD': '금', '+2_WORD': '1'}, {'BOS': False, 'EOS': False, 'WORD': '금', 'IS_DIGIT': False, 'IS_PARTICLE': False, '-1_WORD': '학', '-2_WORD': '장', '-3_WORD': '서', '+1_WORD': '1', '+2_WORD': '0'}, {'BOS': False, 'EOS': False, 'WORD': '1', 'IS_DIGIT': True, 'IS_PARTICLE': False, '-1_WORD': '금', '-2_WORD': '학', '-3_WORD': '장', '+1_WORD': '0', '+2_WORD': '0'}, {'BOS': False, 'EOS': False, 'WORD': '0', 'IS_DIGIT': True, 'IS_PARTICLE': False, '-1_WORD': '1', '-2_WORD': '금', '-3_WORD': '학', '+1_WORD': '0', '+2_WORD': '0'}, {'BOS': False, 'EOS': False, 'WORD': '0', 'IS_DIGIT': True, 'IS_PARTICLE': False, '-1_WORD': '0', '-2_WORD': '1', '-3_WORD': '금', '+1_WORD': '0', '+2_WORD': '만'}, {'BOS': False, 'EOS': False, 'WORD': '0', 'IS_DIGIT': True, 'IS_PARTICLE': False, '-1_WORD': '0', '-2_WORD': '0', '-3_WORD': '1', '+1_WORD': '만', '+2_WORD': '원'}, {'BOS': False, 'EOS': False, 'WORD': '만', 'IS_DIGIT': False, 'IS_PARTICLE': False, '-1_WORD': '0', '-2_WORD': '0', '-3_WORD': '0', '+1_WORD': '원', '+2_WORD': '을'}, {'BOS': False, 'EOS': False, 'WORD': '원', 'IS_DIGIT': False, 'IS_PARTICLE': False, '-1_WORD': '만', '-2_WORD': '0', '-3_WORD': '0', '+1_WORD': '을', '+2_WORD': '쾌'}, {'BOS': False, 'EOS': False, 'WORD': '을', 'IS_DIGIT': False, 'IS_PARTICLE': True, '-1_WORD': '원', '-2_WORD': '만', '-3_WORD': '0', '+1_WORD': '쾌', '+2_WORD': '척'}, {'BOS': False, 'EOS': False, 'WORD': '쾌', 'IS_DIGIT': False, 'IS_PARTICLE': False, '-1_WORD': '을', '-2_WORD': '원', '-3_WORD': '만', '+1_WORD': '척', '+2_WORD': '했'}, {'BOS': False, 'EOS': False, 'WORD': '척', 'IS_DIGIT': False, 'IS_PARTICLE': False, '-1_WORD': '쾌', '-2_WORD': '을', '-3_WORD': '원', '+1_WORD': '했', '+2_WORD': '다'}, {'BOS': False, 'EOS': False, 'WORD': '했', 'IS_DIGIT': False, 'IS_PARTICLE': False, '-1_WORD': '척', '-2_WORD': '쾌', '-3_WORD': '을', '+1_WORD': '다', '+2_WORD': '.'}, {'BOS': False, 'EOS': False, 'WORD': '다', 'IS_DIGIT': False, 'IS_PARTICLE': True, '-1_WORD': '했', '-2_WORD': '척', '-3_WORD': '쾌', '+1_WORD': '.'}, {'BOS': False, 'EOS': True, 'WORD': '.', 'IS_DIGIT': False, 'IS_PARTICLE': False, '-1_WORD': '다', '-2_WORD': '했', '-3_WORD': '척'}], [{'BOS': True, 'EOS': False, 'WORD': '기', 'IS_DIGIT': False, 'IS_PARTICLE': False, '+1_WORD': '상', '+2_WORD': '청'}, {'BOS': False, 'EOS': False, 'WORD': '상', 'IS_DIGIT': False, 'IS_PARTICLE': False, '-1_WORD': '기', '+1_WORD': '청', '+2_WORD': '은'}, {'BOS': False, 'EOS': False, 'WORD': '청', 'IS_DIGIT': False, 'IS_PARTICLE': False, '-1_WORD': '상', '-2_WORD': '기', '+1_WORD': '은', '+2_WORD': '1'}, {'BOS': False, 'EOS': False, 'WORD': '은', 'IS_DIGIT': False, 'IS_PARTICLE': True, '-1_WORD': '청', '-2_WORD': '상', '-3_WORD': '기', '+1_WORD': '1', '+2_WORD': '1'}, {'BOS': False, 'EOS': False, 'WORD': '1', 'IS_DIGIT': True, 'IS_PARTICLE': False, '-1_WORD': '은', '-2_WORD': '청', '-3_WORD': '상', '+1_WORD': '1', '+2_WORD': '일'}, {'BOS': False, 'EOS': False, 'WORD': '1', 'IS_DIGIT': True, 'IS_PARTICLE': False, '-1_WORD': '1', '-2_WORD': '은', '-3_WORD': '청', '+1_WORD': '일', '+2_WORD': '낮'}, {'BOS': False, 'EOS': False, 'WORD': '일', 'IS_DIGIT': False, 'IS_PARTICLE': False, '-1_WORD': '1', '-2_WORD': '1', '-3_WORD': '은', '+1_WORD': '낮', '+2_WORD': '최'}, {'BOS': False, 'EOS': False, 'WORD': '낮', 'IS_DIGIT': False, 'IS_PARTICLE': False, '-1_WORD': '일', '-2_WORD': '1', '-3_WORD': '1', '+1_WORD': '최', '+2_WORD': '고'}, {'BOS': False, 'EOS': False, 'WORD': '최', 'IS_DIGIT': False, 'IS_PARTICLE': False, '-1_WORD': '낮', '-2_WORD': '일', '-3_WORD': '1', '+1_WORD': '고', '+2_WORD': '기'}, {'BOS': False, 'EOS': False, 'WORD': '고', 'IS_DIGIT': False, 'IS_PARTICLE': False, '-1_WORD': '최', '-2_WORD': '낮', '-3_WORD': '일', '+1_WORD': '기', '+2_WORD': '온'}, {'BOS': False, 'EOS': False, 'WORD': '기', 'IS_DIGIT': False, 'IS_PARTICLE': False, '-1_WORD': '고', '-2_WORD': '최', '-3_WORD': '낮', '+1_WORD': '온', '+2_WORD': '이'}, {'BOS': False, 'EOS': False, 'WORD': '온', 'IS_DIGIT': False, 'IS_PARTICLE': False, '-1_WORD': '기', '-2_WORD': '고', '-3_WORD': '최', '+1_WORD': '이', '+2_WORD': '1'}, {'BOS': False, 'EOS': False, 'WORD': '이', 'IS_DIGIT': False, 'IS_PARTICLE': True, '-1_WORD': '온', '-2_WORD': '기', '-3_WORD': '고', '+1_WORD': '1', '+2_WORD': '∼'}, {'BOS': False, 'EOS': False, 'WORD': '1', 'IS_DIGIT': True, 'IS_PARTICLE': False, '-1_WORD': '이', '-2_WORD': '온', '-3_WORD': '기', '+1_WORD': '∼', '+2_WORD': '7'}, {'BOS': False, 'EOS': False, 'WORD': '∼', 'IS_DIGIT': False, 'IS_PARTICLE': False, '-1_WORD': '1', '-2_WORD': '이', '-3_WORD': '온', '+1_WORD': '7', '+2_WORD': '도'}, {'BOS': False, 'EOS': False, 'WORD': '7', 'IS_DIGIT': True, 'IS_PARTICLE': False, '-1_WORD': '∼', '-2_WORD': '1', '-3_WORD': '이', '+1_WORD': '도', '+2_WORD': '로'}, {'BOS': False, 'EOS': False, 'WORD': '도', 'IS_DIGIT': False, 'IS_PARTICLE': False, '-1_WORD': '7', '-2_WORD': '∼', '-3_WORD': '1', '+1_WORD': '로', '+2_WORD': '전'}, {'BOS': False, 'EOS': False, 'WORD': '로', 'IS_DIGIT': False, 'IS_PARTICLE': False, '-1_WORD': '도', '-2_WORD': '7', '-3_WORD': '∼', '+1_WORD': '전', '+2_WORD': '국'}, {'BOS': False, 'EOS': False, 'WORD': '전', 'IS_DIGIT': False, 'IS_PARTICLE': False, '-1_WORD': '로', '-2_WORD': '도', '-3_WORD': '7', '+1_WORD': '국', '+2_WORD': '대'}, {'BOS': False, 'EOS': False, 'WORD': '국', 'IS_DIGIT': False, 'IS_PARTICLE': False, '-1_WORD': '전', '-2_WORD': '로', '-3_WORD': '도', '+1_WORD': '대', '+2_WORD': '부'}, {'BOS': False, 'EOS': False, 'WORD': '대', 'IS_DIGIT': False, 'IS_PARTICLE': False, '-1_WORD': '국', '-2_WORD': '전', '-3_WORD': '로', '+1_WORD': '부', '+2_WORD': '분'}, {'BOS': False, 'EOS': False, 'WORD': '부', 'IS_DIGIT': False, 'IS_PARTICLE': False, '-1_WORD': '대', '-2_WORD': '국', '-3_WORD': '전', '+1_WORD': '분', '+2_WORD': '지'}, {'BOS': False, 'EOS': False, 'WORD': '분', 'IS_DIGIT': False, 'IS_PARTICLE': False, '-1_WORD': '부', '-2_WORD': '대', '-3_WORD': '국', '+1_WORD': '지', '+2_WORD': '방'}, {'BOS': False, 'EOS': False, 'WORD': '지', 'IS_DIGIT': False, 'IS_PARTICLE': False, '-1_WORD': '분', '-2_WORD': '부', '-3_WORD': '대', '+1_WORD': '방', '+2_WORD': '이'}, {'BOS': False, 'EOS': False, 'WORD': '방', 'IS_DIGIT': False, 'IS_PARTICLE': False, '-1_WORD': '지', '-2_WORD': '분', '-3_WORD': '부', '+1_WORD': '이', '+2_WORD': '영'}, {'BOS': False, 'EOS': False, 'WORD': '이', 'IS_DIGIT': False, 'IS_PARTICLE': True, '-1_WORD': '방', '-2_WORD': '지', '-3_WORD': '분', '+1_WORD': '영', '+2_WORD': '상'}, {'BOS': False, 'EOS': False, 'WORD': '영', 'IS_DIGIT': False, 'IS_PARTICLE': False, '-1_WORD': '이', '-2_WORD': '방', '-3_WORD': '지', '+1_WORD': '상', '+2_WORD': '을'}, {'BOS': False, 'EOS': False, 'WORD': '상', 'IS_DIGIT': False, 'IS_PARTICLE': False, '-1_WORD': '영', '-2_WORD': '이', '-3_WORD': '방', '+1_WORD': '을', '+2_WORD': '기'}, {'BOS': False, 'EOS': False, 'WORD': '을', 'IS_DIGIT': False, 'IS_PARTICLE': True, '-1_WORD': '상', '-2_WORD': '영', '-3_WORD': '이', '+1_WORD': '기', '+2_WORD': '록'}, {'BOS': False, 'EOS': False, 'WORD': '기', 'IS_DIGIT': False, 'IS_PARTICLE': False, '-1_WORD': '을', '-2_WORD': '상', '-3_WORD': '영', '+1_WORD': '록', '+2_WORD': '할'}, {'BOS': False, 'EOS': False, 'WORD': '록', 'IS_DIGIT': False, 'IS_PARTICLE': False, '-1_WORD': '기', '-2_WORD': '을', '-3_WORD': '상', '+1_WORD': '할', '+2_WORD': '것'}, {'BOS': False, 'EOS': False, 'WORD': '할', 'IS_DIGIT': False, 'IS_PARTICLE': False, '-1_WORD': '록', '-2_WORD': '기', '-3_WORD': '을', '+1_WORD': '것', '+2_WORD': '으'}, {'BOS': False, 'EOS': False, 'WORD': '것', 'IS_DIGIT': False, 'IS_PARTICLE': False, '-1_WORD': '할', '-2_WORD': '록', '-3_WORD': '기', '+1_WORD': '으', '+2_WORD': '로'}, {'BOS': False, 'EOS': False, 'WORD': '으', 'IS_DIGIT': False, 'IS_PARTICLE': False, '-1_WORD': '것', '-2_WORD': '할', '-3_WORD': '록', '+1_WORD': '로', '+2_WORD': '예'}, {'BOS': False, 'EOS': False, 'WORD': '로', 'IS_DIGIT': False, 'IS_PARTICLE': False, '-1_WORD': '으', '-2_WORD': '것', '-3_WORD': '할', '+1_WORD': '예', '+2_WORD': '측'}, {'BOS': False, 'EOS': False, 'WORD': '예', 'IS_DIGIT': False, 'IS_PARTICLE': False, '-1_WORD': '로', '-2_WORD': '으', '-3_WORD': '것', '+1_WORD': '측', '+2_WORD': '돼'}, {'BOS': False, 'EOS': False, 'WORD': '측', 'IS_DIGIT': False, 'IS_PARTICLE': False, '-1_WORD': '예', '-2_WORD': '로', '-3_WORD': '으', '+1_WORD': '돼', '+2_WORD': '외'}, {'BOS': False, 'EOS': False, 'WORD': '돼', 'IS_DIGIT': False, 'IS_PARTICLE': False, '-1_WORD': '측', '-2_WORD': '예', '-3_WORD': '로', '+1_WORD': '외', '+2_WORD': '부'}, {'BOS': False, 'EOS': False, 'WORD': '외', 'IS_DIGIT': False, 'IS_PARTICLE': False, '-1_WORD': '돼', '-2_WORD': '측', '-3_WORD': '예', '+1_WORD': '부', '+2_WORD': '활'}, {'BOS': False, 'EOS': False, 'WORD': '부', 'IS_DIGIT': False, 'IS_PARTICLE': False, '-1_WORD': '외', '-2_WORD': '돼', '-3_WORD': '측', '+1_WORD': '활', '+2_WORD': '동'}, {'BOS': False, 'EOS': False, 'WORD': '활', 'IS_DIGIT': False, 'IS_PARTICLE': False, '-1_WORD': '부', '-2_WORD': '외', '-3_WORD': '돼', '+1_WORD': '동', '+2_WORD': '에'}, {'BOS': False, 'EOS': False, 'WORD': '동', 'IS_DIGIT': False, 'IS_PARTICLE': False, '-1_WORD': '활', '-2_WORD': '부', '-3_WORD': '외', '+1_WORD': '에', '+2_WORD': '문'}, {'BOS': False, 'EOS': False, 'WORD': '에', 'IS_DIGIT': False, 'IS_PARTICLE': False, '-1_WORD': '동', '-2_WORD': '활', '-3_WORD': '부', '+1_WORD': '문', '+2_WORD': '제'}, {'BOS': False, 'EOS': False, 'WORD': '문', 'IS_DIGIT': False, 'IS_PARTICLE': False, '-1_WORD': '에', '-2_WORD': '동', '-3_WORD': '활', '+1_WORD': '제', '+2_WORD': '가'}, {'BOS': False, 'EOS': False, 'WORD': '제', 'IS_DIGIT': False, 'IS_PARTICLE': False, '-1_WORD': '문', '-2_WORD': '에', '-3_WORD': '동', '+1_WORD': '가', '+2_WORD': '없'}, {'BOS': False, 'EOS': False, 'WORD': '가', 'IS_DIGIT': False, 'IS_PARTICLE': True, '-1_WORD': '제', '-2_WORD': '문', '-3_WORD': '에', '+1_WORD': '없', '+2_WORD': '을'}, {'BOS': False, 'EOS': False, 'WORD': '없', 'IS_DIGIT': False, 'IS_PARTICLE': False, '-1_WORD': '가', '-2_WORD': '제', '-3_WORD': '문', '+1_WORD': '을', '+2_WORD': '것'}, {'BOS': False, 'EOS': False, 'WORD': '을', 'IS_DIGIT': False, 'IS_PARTICLE': True, '-1_WORD': '없', '-2_WORD': '가', '-3_WORD': '제', '+1_WORD': '것', '+2_WORD': '으'}, {'BOS': False, 'EOS': False, 'WORD': '것', 'IS_DIGIT': False, 'IS_PARTICLE': False, '-1_WORD': '을', '-2_WORD': '없', '-3_WORD': '가', '+1_WORD': '으', '+2_WORD': '로'}, {'BOS': False, 'EOS': False, 'WORD': '으', 'IS_DIGIT': False, 'IS_PARTICLE': False, '-1_WORD': '것', '-2_WORD': '을', '-3_WORD': '없', '+1_WORD': '로', '+2_WORD': '전'}, {'BOS': False, 'EOS': False, 'WORD': '로', 'IS_DIGIT': False, 'IS_PARTICLE': False, '-1_WORD': '으', '-2_WORD': '것', '-3_WORD': '을', '+1_WORD': '전', '+2_WORD': '망'}, {'BOS': False, 'EOS': False, 'WORD': '전', 'IS_DIGIT': False, 'IS_PARTICLE': False, '-1_WORD': '로', '-2_WORD': '으', '-3_WORD': '것', '+1_WORD': '망', '+2_WORD': '했'}, {'BOS': False, 'EOS': False, 'WORD': '망', 'IS_DIGIT': False, 'IS_PARTICLE': False, '-1_WORD': '전', '-2_WORD': '로', '-3_WORD': '으', '+1_WORD': '했', '+2_WORD': '다'}, {'BOS': False, 'EOS': False, 'WORD': '했', 'IS_DIGIT': False, 'IS_PARTICLE': False, '-1_WORD': '망', '-2_WORD': '전', '-3_WORD': '로', '+1_WORD': '다', '+2_WORD': '.'}, {'BOS': False, 'EOS': False, 'WORD': '다', 'IS_DIGIT': False, 'IS_PARTICLE': True, '-1_WORD': '했', '-2_WORD': '망', '-3_WORD': '전', '+1_WORD': '.'}, {'BOS': False, 'EOS': True, 'WORD': '.', 'IS_DIGIT': False, 'IS_PARTICLE': False, '-1_WORD': '다', '-2_WORD': '했', '-3_WORD': '망'}], [{'BOS': True, 'EOS': False, 'WORD': '남', 'IS_DIGIT': False, 'IS_PARTICLE': False, '+1_WORD': '북', '+2_WORD': '이'}, {'BOS': False, 'EOS': False, 'WORD': '북', 'IS_DIGIT': False, 'IS_PARTICLE': False, '-1_WORD': '남', '+1_WORD': '이', '+2_WORD': '1'}, {'BOS': False, 'EOS': False, 'WORD': '이', 'IS_DIGIT': False, 'IS_PARTICLE': True, '-1_WORD': '북', '-2_WORD': '남', '+1_WORD': '1', '+2_WORD': '4'}, {'BOS': False, 'EOS': False, 'WORD': '1', 'IS_DIGIT': True, 'IS_PARTICLE': False, '-1_WORD': '이', '-2_WORD': '북', '-3_WORD': '남', '+1_WORD': '4', '+2_WORD': '일'}, {'BOS': False, 'EOS': False, 'WORD': '4', 'IS_DIGIT': True, 'IS_PARTICLE': False, '-1_WORD': '1', '-2_WORD': '이', '-3_WORD': '북', '+1_WORD': '일', '+2_WORD': '오'}, {'BOS': False, 'EOS': False, 'WORD': '일', 'IS_DIGIT': False, 'IS_PARTICLE': False, '-1_WORD': '4', '-2_WORD': '1', '-3_WORD': '이', '+1_WORD': '오', '+2_WORD': '전'}, {'BOS': False, 'EOS': False, 'WORD': '오', 'IS_DIGIT': False, 'IS_PARTICLE': False, '-1_WORD': '일', '-2_WORD': '4', '-3_WORD': '1', '+1_WORD': '전', '+2_WORD': '1'}, {'BOS': False, 'EOS': False, 'WORD': '전', 'IS_DIGIT': False, 'IS_PARTICLE': False, '-1_WORD': '오', '-2_WORD': '일', '-3_WORD': '4', '+1_WORD': '1', '+2_WORD': '0'}, {'BOS': False, 'EOS': False, 'WORD': '1', 'IS_DIGIT': True, 'IS_PARTICLE': False, '-1_WORD': '전', '-2_WORD': '오', '-3_WORD': '일', '+1_WORD': '0', '+2_WORD': '시'}, {'BOS': False, 'EOS': False, 'WORD': '0', 'IS_DIGIT': True, 'IS_PARTICLE': False, '-1_WORD': '1', '-2_WORD': '전', '-3_WORD': '오', '+1_WORD': '시', '+2_WORD': '판'}, {'BOS': False, 'EOS': False, 'WORD': '시', 'IS_DIGIT': False, 'IS_PARTICLE': False, '-1_WORD': '0', '-2_WORD': '1', '-3_WORD': '전', '+1_WORD': '판', '+2_WORD': '문'}, {'BOS': False, 'EOS': False, 'WORD': '판', 'IS_DIGIT': False, 'IS_PARTICLE': False, '-1_WORD': '시', '-2_WORD': '0', '-3_WORD': '1', '+1_WORD': '문', '+2_WORD': '점'}, {'BOS': False, 'EOS': False, 'WORD': '문', 'IS_DIGIT': False, 'IS_PARTICLE': False, '-1_WORD': '판', '-2_WORD': '시', '-3_WORD': '0', '+1_WORD': '점', '+2_WORD': '우'}, {'BOS': False, 'EOS': False, 'WORD': '점', 'IS_DIGIT': False, 'IS_PARTICLE': False, '-1_WORD': '문', '-2_WORD': '판', '-3_WORD': '시', '+1_WORD': '우', '+2_WORD': '리'}, {'BOS': False, 'EOS': False, 'WORD': '우', 'IS_DIGIT': False, 'IS_PARTICLE': False, '-1_WORD': '점', '-2_WORD': '문', '-3_WORD': '판', '+1_WORD': '리', '+2_WORD': '측'}, {'BOS': False, 'EOS': False, 'WORD': '리', 'IS_DIGIT': False, 'IS_PARTICLE': False, '-1_WORD': '우', '-2_WORD': '점', '-3_WORD': '문', '+1_WORD': '측', '+2_WORD': '지'}, {'BOS': False, 'EOS': False, 'WORD': '측', 'IS_DIGIT': False, 'IS_PARTICLE': False, '-1_WORD': '리', '-2_WORD': '우', '-3_WORD': '점', '+1_WORD': '지', '+2_WORD': '역'}, {'BOS': False, 'EOS': False, 'WORD': '지', 'IS_DIGIT': False, 'IS_PARTICLE': False, '-1_WORD': '측', '-2_WORD': '리', '-3_WORD': '우', '+1_WORD': '역', '+2_WORD': '평'}, {'BOS': False, 'EOS': False, 'WORD': '역', 'IS_DIGIT': False, 'IS_PARTICLE': False, '-1_WORD': '지', '-2_WORD': '측', '-3_WORD': '리', '+1_WORD': '평', '+2_WORD': '화'}, {'BOS': False, 'EOS': False, 'WORD': '평', 'IS_DIGIT': False, 'IS_PARTICLE': False, '-1_WORD': '역', '-2_WORD': '지', '-3_WORD': '측', '+1_WORD': '화', '+2_WORD': '의'}, {'BOS': False, 'EOS': False, 'WORD': '화', 'IS_DIGIT': False, 'IS_PARTICLE': False, '-1_WORD': '평', '-2_WORD': '역', '-3_WORD': '지', '+1_WORD': '의', '+2_WORD': '집'}, {'BOS': False, 'EOS': False, 'WORD': '의', 'IS_DIGIT': False, 'IS_PARTICLE': False, '-1_WORD': '화', '-2_WORD': '평', '-3_WORD': '역', '+1_WORD': '집', '+2_WORD': '에'}, {'BOS': False, 'EOS': False, 'WORD': '집', 'IS_DIGIT': False, 'IS_PARTICLE': False, '-1_WORD': '의', '-2_WORD': '화', '-3_WORD': '평', '+1_WORD': '에', '+2_WORD': '서'}, {'BOS': False, 'EOS': False, 'WORD': '에', 'IS_DIGIT': False, 'IS_PARTICLE': False, '-1_WORD': '집', '-2_WORD': '의', '-3_WORD': '화', '+1_WORD': '서', '+2_WORD': '2'}, {'BOS': False, 'EOS': False, 'WORD': '서', 'IS_DIGIT': False, 'IS_PARTICLE': False, '-1_WORD': '에', '-2_WORD': '집', '-3_WORD': '의', '+1_WORD': '2', '+2_WORD': '차'}, {'BOS': False, 'EOS': False, 'WORD': '2', 'IS_DIGIT': True, 'IS_PARTICLE': False, '-1_WORD': '서', '-2_WORD': '에', '-3_WORD': '집', '+1_WORD': '차', '+2_WORD': '고'}, {'BOS': False, 'EOS': False, 'WORD': '차', 'IS_DIGIT': False, 'IS_PARTICLE': False, '-1_WORD': '2', '-2_WORD': '서', '-3_WORD': '에', '+1_WORD': '고', '+2_WORD': '위'}, {'BOS': False, 'EOS': False, 'WORD': '고', 'IS_DIGIT': False, 'IS_PARTICLE': False, '-1_WORD': '차', '-2_WORD': '2', '-3_WORD': '서', '+1_WORD': '위', '+2_WORD': '급'}, {'BOS': False, 'EOS': False, 'WORD': '위', 'IS_DIGIT': False, 'IS_PARTICLE': False, '-1_WORD': '고', '-2_WORD': '차', '-3_WORD': '2', '+1_WORD': '급', '+2_WORD': '접'}, {'BOS': False, 'EOS': False, 'WORD': '급', 'IS_DIGIT': False, 'IS_PARTICLE': False, '-1_WORD': '위', '-2_WORD': '고', '-3_WORD': '차', '+1_WORD': '접', '+2_WORD': '촉'}, {'BOS': False, 'EOS': False, 'WORD': '접', 'IS_DIGIT': False, 'IS_PARTICLE': False, '-1_WORD': '급', '-2_WORD': '위', '-3_WORD': '고', '+1_WORD': '촉', '+2_WORD': '을'}, {'BOS': False, 'EOS': False, 'WORD': '촉', 'IS_DIGIT': False, 'IS_PARTICLE': False, '-1_WORD': '접', '-2_WORD': '급', '-3_WORD': '위', '+1_WORD': '을', '+2_WORD': '갖'}, {'BOS': False, 'EOS': False, 'WORD': '을', 'IS_DIGIT': False, 'IS_PARTICLE': True, '-1_WORD': '촉', '-2_WORD': '접', '-3_WORD': '급', '+1_WORD': '갖', '+2_WORD': '는'}, {'BOS': False, 'EOS': False, 'WORD': '갖', 'IS_DIGIT': False, 'IS_PARTICLE': False, '-1_WORD': '을', '-2_WORD': '촉', '-3_WORD': '접', '+1_WORD': '는', '+2_WORD': '다'}, {'BOS': False, 'EOS': False, 'WORD': '는', 'IS_DIGIT': False, 'IS_PARTICLE': True, '-1_WORD': '갖', '-2_WORD': '을', '-3_WORD': '촉', '+1_WORD': '다', '+2_WORD': '고'}, {'BOS': False, 'EOS': False, 'WORD': '다', 'IS_DIGIT': False, 'IS_PARTICLE': True, '-1_WORD': '는', '-2_WORD': '갖', '-3_WORD': '을', '+1_WORD': '고', '+2_WORD': '통'}, {'BOS': False, 'EOS': False, 'WORD': '고', 'IS_DIGIT': False, 'IS_PARTICLE': False, '-1_WORD': '다', '-2_WORD': '는', '-3_WORD': '갖', '+1_WORD': '통', '+2_WORD': '일'}, {'BOS': False, 'EOS': False, 'WORD': '통', 'IS_DIGIT': False, 'IS_PARTICLE': False, '-1_WORD': '고', '-2_WORD': '다', '-3_WORD': '는', '+1_WORD': '일', '+2_WORD': '부'}, {'BOS': False, 'EOS': False, 'WORD': '일', 'IS_DIGIT': False, 'IS_PARTICLE': False, '-1_WORD': '통', '-2_WORD': '고', '-3_WORD': '다', '+1_WORD': '부', '+2_WORD': '가'}, {'BOS': False, 'EOS': False, 'WORD': '부', 'IS_DIGIT': False, 'IS_PARTICLE': False, '-1_WORD': '일', '-2_WORD': '통', '-3_WORD': '고', '+1_WORD': '가', '+2_WORD': '1'}, {'BOS': False, 'EOS': False, 'WORD': '가', 'IS_DIGIT': False, 'IS_PARTICLE': True, '-1_WORD': '부', '-2_WORD': '일', '-3_WORD': '통', '+1_WORD': '1', '+2_WORD': '3'}, {'BOS': False, 'EOS': False, 'WORD': '1', 'IS_DIGIT': True, 'IS_PARTICLE': False, '-1_WORD': '가', '-2_WORD': '부', '-3_WORD': '일', '+1_WORD': '3', '+2_WORD': '일'}, {'BOS': False, 'EOS': False, 'WORD': '3', 'IS_DIGIT': True, 'IS_PARTICLE': False, '-1_WORD': '1', '-2_WORD': '가', '-3_WORD': '부', '+1_WORD': '일', '+2_WORD': '밝'}, {'BOS': False, 'EOS': False, 'WORD': '일', 'IS_DIGIT': False, 'IS_PARTICLE': False, '-1_WORD': '3', '-2_WORD': '1', '-3_WORD': '가', '+1_WORD': '밝', '+2_WORD': '혔'}, {'BOS': False, 'EOS': False, 'WORD': '밝', 'IS_DIGIT': False, 'IS_PARTICLE': False, '-1_WORD': '일', '-2_WORD': '3', '-3_WORD': '1', '+1_WORD': '혔', '+2_WORD': '다'}, {'BOS': False, 'EOS': False, 'WORD': '혔', 'IS_DIGIT': False, 'IS_PARTICLE': False, '-1_WORD': '밝', '-2_WORD': '일', '-3_WORD': '3', '+1_WORD': '다', '+2_WORD': '.'}, {'BOS': False, 'EOS': False, 'WORD': '다', 'IS_DIGIT': False, 'IS_PARTICLE': True, '-1_WORD': '혔', '-2_WORD': '밝', '-3_WORD': '일', '+1_WORD': '.'}, {'BOS': False, 'EOS': True, 'WORD': '.', 'IS_DIGIT': False, 'IS_PARTICLE': False, '-1_WORD': '다', '-2_WORD': '혔', '-3_WORD': '밝'}]]\n",
            "\n",
            "[['B', 'I', 'I', 'I', 'I', 'B', 'I', 'B', 'I', 'B', 'I', 'B', 'I', 'I', 'B', 'I', 'I', 'B', 'I', 'B', 'I', 'I', 'I', 'I', 'B', 'I', 'I', 'I', 'B', 'I', 'I', 'I', 'B', 'I', 'I'], ['B', 'B', 'I', 'I', 'B', 'I', 'B', 'I', 'B', 'I', 'I', 'I', 'B', 'I', 'I', 'I', 'I', 'I', 'I', 'I', 'B', 'I', 'I', 'I', 'I', 'I', 'I', 'B', 'B', 'B', 'I', 'I', 'I', 'I', 'B', 'I', 'I', 'I', 'I', 'I', 'I', 'B', 'I', 'I', 'I', 'I', 'B', 'I', 'I'], ['B', 'B', 'B', 'B', 'I', 'B', 'I', 'I', 'I', 'I', 'I', 'B', 'I', 'I', 'I', 'I', 'I', 'B', 'I', 'I', 'I', 'B', 'I', 'B', 'I', 'I', 'I', 'B', 'I', 'I', 'B', 'I', 'B', 'I', 'I', 'I', 'I', 'I', 'I', 'B', 'I', 'I', 'I', 'I', 'B', 'I', 'I', 'B', 'I', 'I', 'B', 'I', 'B', 'I', 'I', 'I', 'B', 'I', 'I', 'I', 'I', 'B', 'I', 'I', 'B', 'I', 'I', 'I', 'I', 'I', 'I', 'B', 'I', 'I', 'I', 'I'], ['B', 'I', 'I', 'I', 'B', 'I', 'I', 'B', 'B', 'I', 'I', 'I', 'I', 'B', 'I', 'I', 'I', 'I', 'B', 'I', 'B', 'I', 'I', 'B', 'I', 'I', 'B', 'I', 'I', 'B', 'I', 'I', 'B', 'I', 'I', 'B', 'I', 'I', 'B', 'I', 'I', 'I', 'I', 'B', 'I', 'I', 'B', 'I', 'B', 'I', 'I', 'B', 'I', 'I', 'I', 'I'], ['B', 'I', 'I', 'B', 'I', 'I', 'B', 'I', 'B', 'I', 'I', 'B', 'I', 'I', 'B', 'I', 'I', 'B', 'I', 'B', 'I', 'I', 'B', 'I', 'I', 'B', 'I', 'B', 'I', 'I', 'B', 'I', 'I', 'B', 'I', 'I', 'I', 'B', 'I', 'I', 'I', 'B', 'I', 'I', 'B', 'I', 'I', 'I']]\n"
          ]
        }
      ]
    },
    {
      "cell_type": "code",
      "source": [
        "#crf = sklearn_crfsuite.CRF(\n",
        "#        algorithm='lbfgs',\n",
        "#        c1=0.1,\n",
        "#        c2=0.1,\n",
        "#        max_iterations=100,\n",
        "#        all_possible_transitions=True\n",
        "#    )\n",
        "crf = sklearn_crfsuite.CRF()\n",
        "crf.fit(train_x, train_y)"
      ],
      "metadata": {
        "id": "4StFY6M41QCG",
        "colab": {
          "base_uri": "https://localhost:8080/"
        },
        "outputId": "8d74e7d4-558f-4a6b-eab1-86a9b77e2f01"
      },
      "id": "4StFY6M41QCG",
      "execution_count": null,
      "outputs": [
        {
          "output_type": "stream",
          "name": "stderr",
          "text": [
            "/usr/local/lib/python3.7/dist-packages/sklearn/base.py:213: FutureWarning: From version 0.24, get_params will raise an AttributeError if a parameter cannot be retrieved as an instance attribute. Previously it would return None.\n",
            "  FutureWarning)\n"
          ]
        },
        {
          "output_type": "execute_result",
          "data": {
            "text/plain": [
              "CRF(keep_tempfiles=None)"
            ]
          },
          "metadata": {},
          "execution_count": 7
        }
      ]
    },
    {
      "cell_type": "markdown",
      "source": [
        "**accuracy**\n",
        "\n",
        "기본 accuracy: 0.9181170653219002\n",
        "\n",
        "IS_ALPHA 을 넣었을 때: 0.9180974432431371 오히려 정확도가 감소함 -> 제거\n",
        "\n",
        "IS_PARTICLE 을 넣었을 때: 0.9182347977944784\n",
        "\n",
        "IS_PARTICLE, IS_KOREAN 을 넣었을 때: 0.9181759315581893 정확도가 감소함 -> 제거\n",
        "\n",
        "3, -3, IS_PARTICLE 을 넣었을 때: 0.9185683731334497 정확도가 0.0044 오름\n",
        "\n",
        "이미 약 92%의 accuracy를 가지고 있는 모델이라서 feature을 뭐로 삼든 다 극소치만 오르는 듯..."
      ],
      "metadata": {
        "id": "CXpcJmnBFM87"
      },
      "id": "CXpcJmnBFM87"
    },
    {
      "cell_type": "code",
      "source": [
        "def show_predict_result(test_datas, predict):\n",
        "  for index_1 in range(len(test_datas)):\n",
        "      eumjeol_sequence, correct_labels = test_datas[index_1]\n",
        "      predict_labels = predict[index_1]\n",
        "     \n",
        "      correct_sentence, predict_sentence = \"\", \"\"\n",
        "      for index_2 in range(len(eumjeol_sequence)):\n",
        "          if(index_2 == 0):\n",
        "              correct_sentence += eumjeol_sequence[index_2]\n",
        "              predict_sentence += eumjeol_sequence[index_2]\n",
        "              continue\n",
        "\n",
        "          if(correct_labels[index_2] == \"B\"):\n",
        "              correct_sentence += \" \"\n",
        "          correct_sentence += eumjeol_sequence[index_2]\n",
        "\n",
        "          if (predict_labels[index_2] == \"B\"):\n",
        "              predict_sentence += \" \"\n",
        "          predict_sentence += eumjeol_sequence[index_2]\n",
        "\n",
        "      print(\"정답 문장 : \" + correct_sentence)\n",
        "      print(\"출력 문장 : \" + predict_sentence)\n",
        "      print()\n",
        "\n",
        "predict = crf.predict(test_x)\n",
        "\n",
        "print(\"Accuracy score : \" + str(metrics.flat_accuracy_score(test_y, predict)))\n",
        "print()\n",
        "\n",
        "print(\"10개의 데이터에 대한 모델 출력과 실제 정답 비교\")\n",
        "print()\n",
        "\n",
        "show_predict_result(test_datas[:10], predict[:10])"
      ],
      "metadata": {
        "id": "oTnldzFc1Qda",
        "colab": {
          "base_uri": "https://localhost:8080/"
        },
        "outputId": "e5e391c8-060e-41c3-cdde-826f6792ea17"
      },
      "id": "oTnldzFc1Qda",
      "execution_count": null,
      "outputs": [
        {
          "output_type": "stream",
          "name": "stdout",
          "text": [
            "Accuracy score : 0.9185683731334497\n",
            "\n",
            "10개의 데이터에 대한 모델 출력과 실제 정답 비교\n",
            "\n",
            "정답 문장 : 한화그룹(회장 (이름))의 공식 sns 채널 ‘한화데이즈’가 디지털 미디어 시상식 ‘앤 어워드’에서 디지털 ad 부문 그랑프리, 모바일 웹 부문(2개 부문), 디지털 필름 등 4관왕에 올랐다.\n",
            "출력 문장 : 한화그룹(회장 (이름))의 공식 sns채널 ‘한화데이즈’가 디지털 미디어시상식 ‘앤어워드’에서 디지털ad부문 그랑프리, 모바일 웹부문(2개부문), 디지털 필름등 4관왕에 올랐다.\n",
            "\n",
            "정답 문장 : '이맹희 별세' . . 고 (이름) 삼성그룹 창업주의 장남이자 (이름) cj그룹 회장의 부친인 이맹희 전 제일비료 회장이 중국에서 별세했다.\n",
            "출력 문장 : '이 맹희 별세'. .고 (이름) 삼성그룹 창업주의 장남이자 (이름) cj그룹 회장의 부친인이 맹희 전제일 비료 회장이 중국에서 별세했다.\n",
            "\n",
            "정답 문장 : 제일모직은 17일 오전 임시 주주총회를 열고 삼성물산과의 합병안을 승인했다.\n",
            "출력 문장 : 제일 모직은 17일 오전 임시 주주 총회를 열고 삼성물산과의 합병안을 승인했다.\n",
            "\n",
            "정답 문장 : . 보해양조(주)는 17일 동여수노인복지관(관장 정금칠)을 찾아 ‘작은 나눔 큰 사랑 캠페인’에서 모은 성금 200만원으로 구입한 물리치료기기를 전달하고 있다.\n",
            "출력 문장 : . 보해 양조(주)는 17일동 여수노인복지관(관장 정금칠)을 찾아 ‘작은 나눔 큰 사랑 캠페인’에서 모은 성금 200만원으로 구입한 물리치료 기기를 전달하고 있다.\n",
            "\n",
            "정답 문장 : 한화큐셀과 한화차이나는 중국청소년발전기금회와 함께 중국 빈곤지역 학교에 태양광 발전설비를 기증하는 캠페인이 두번째 결실을 맺었다고 28일 밝혔다.\n",
            "출력 문장 : 한화큐셀과 한화차이 나는 중국 청소년 발전기금회와 함께 중국빈곤지역학교에 태양광발전 설비를 기증하는 캠페인이 두번째 결실을 맺었다고 28일 밝혔다.\n",
            "\n",
            "정답 문장 : 알츠하이머성 치매 증상 완화제 사용량이 비용 기준으로 연평균 두 자릿수씩 증가하는 것으로 나타났다.\n",
            "출력 문장 : 알츠하이 머성치매 증상완화 제사용량이 비용 기준으로 연평균 두자릿수씩 증가하는 것으로 나타났다.\n",
            "\n",
            "정답 문장 : . . '(이름) 회장 기자회견'. . . (이름) 롯데그룹 회장은 11일 '(롯데그룹의) 순환출자를 비롯한 지배구조 개선과 경영투명성 제고 조치를 빠른 시일내에 시행하겠다'며 '중장기적으로는 그룹을 지주회사로 전환해 순환출자를 완전히 해소하겠다'고 말했다.\n",
            "출력 문장 : . . '(이름) 회장기자회견'. . . (이름) 롯데그룹 회장은 11일 '(롯데그룹의)순 환출자를 비롯한지배구 조개선과 경영투명 성제고 조치를 빠른 시일 내에 시행하겠다'며 '중장 기적으로는 그룹을 지주회사로 전환해 순환출자를 완전히 해소하겠다' 고말했다.\n",
            "\n",
            "정답 문장 : . . . . . . 롯데월드몰이 문화체육관광부 해외문화(이름)과 함께 오는 27일 중국 주요 언론인 및 파워블로거 초청 행사를 진행한다고 27일 밝혔다.\n",
            "출력 문장 : . . . . . . 롯데월드몰이 문화체육관광부해 외문화 (이름)과 함께 오는 27일 중국 주요언론인 및 파워블로거 초청행사를 진행한다고 27일 밝혔다.\n",
            "\n",
            "정답 문장 : 한빛원전(본부장 (이름)) 1호기가 발전을 재개한다.\n",
            "출력 문장 : 한 빛원전(본부장 (이름)) 1호기가 발전을 재개한다.\n",
            "\n",
            "정답 문장 : 금호산업 본입찰에 단독 참여한 호반건설이 인수금액으로 6200억원을 써낸 것으로 알려졌다.\n",
            "출력 문장 : 금호산업본 입찰에 단독 참여한 호반건설이인 수금액으로 6200억원을 써낸 것으로 알려졌다.\n",
            "\n"
          ]
        }
      ]
    }
  ],
  "metadata": {
    "kernelspec": {
      "display_name": "Python 3 (ipykernel)",
      "language": "python",
      "name": "python3"
    },
    "language_info": {
      "codemirror_mode": {
        "name": "ipython",
        "version": 3
      },
      "file_extension": ".py",
      "mimetype": "text/x-python",
      "name": "python",
      "nbconvert_exporter": "python",
      "pygments_lexer": "ipython3",
      "version": "3.9.7"
    },
    "colab": {
      "provenance": [],
      "collapsed_sections": []
    }
  },
  "nbformat": 4,
  "nbformat_minor": 5
}